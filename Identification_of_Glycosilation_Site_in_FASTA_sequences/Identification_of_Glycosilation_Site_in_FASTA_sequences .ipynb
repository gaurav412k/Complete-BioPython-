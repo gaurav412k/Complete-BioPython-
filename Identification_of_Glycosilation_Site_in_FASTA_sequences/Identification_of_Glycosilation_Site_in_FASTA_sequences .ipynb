{
 "cells": [
  {
   "cell_type": "code",
   "execution_count": null,
   "id": "1cd66b02",
   "metadata": {},
   "outputs": [],
   "source": [
    "# pip insatll Bio"
   ]
  },
  {
   "cell_type": "code",
   "execution_count": 2,
   "id": "e11c4763",
   "metadata": {},
   "outputs": [
    {
     "name": "stdout",
     "output_type": "stream",
     "text": [
      "        EPI ID  Year  Number of Glycosylation Sites         EPI_ISL\n",
      "0    EPI221918  2007                              9   EPI_ISL_63488\n",
      "1    EPI222002  2007                              9   EPI_ISL_63498\n",
      "2    EPI499480  2009                              9  EPI_ISL_153622\n",
      "3    EPI499481  2011                              9  EPI_ISL_153623\n",
      "4    EPI499479  2010                              9  EPI_ISL_153621\n",
      "..         ...   ...                            ...             ...\n",
      "577  EPI171212  2007                              9   EPI_ISL_27610\n",
      "578  EPI171213  2007                              9   EPI_ISL_27611\n",
      "579  EPI141271  2007                              9   EPI_ISL_16356\n",
      "580  EPI141279  2007                              9   EPI_ISL_16357\n",
      "581  EPI113316  2006                              8   EPI_ISL_11263\n",
      "\n",
      "[582 rows x 4 columns]\n"
     ]
    }
   ],
   "source": [
    "from Bio import SeqIO\n",
    "import pandas as pd\n",
    "import re\n",
    "\n",
    "fasta_file = \"gisaid_epiflu_sequence (2_3_4).fasta\"\n",
    "\n",
    "# Create a list to store the results\n",
    "results = []\n",
    "\n",
    "# Define a regular expression pattern for glycosylation sites\n",
    "glycosylation_pattern = re.compile(r'N[^P][STC]')\n",
    "\n",
    "# Define a function to count glycosylation sites using regex\n",
    "def count_glycosylation_sites(sequence):\n",
    "    return len(glycosylation_pattern.findall(sequence))\n",
    "\n",
    "# Open and parse the FASTA file\n",
    "with open(fasta_file) as handle:\n",
    "    for record in SeqIO.parse(handle, \"fasta\"):\n",
    "        epi_id = record.id.split('|')[0]\n",
    "        year = re.search(r'/(20\\d{2}|19\\d{2})', record.description)\n",
    "        year = year.group(1) if year else \"Unknown\"\n",
    "        sequence = str(record.seq)\n",
    "        glycosylation_sites = count_glycosylation_sites(sequence)\n",
    "        epi_isl_match = re.search(r'\\|EPI_ISL_\\d+\\|', record.description)\n",
    "        epi_isl = epi_isl_match.group(0).strip('|') if epi_isl_match else \"Unknown\"\n",
    "\n",
    "        results.append({\n",
    "            \"EPI ID\": epi_id,\n",
    "            \"Year\": year,\n",
    "            \"Number of Glycosylation Sites\": glycosylation_sites,\n",
    "            \"EPI_ISL\": epi_isl\n",
    "        })\n",
    "\n",
    "# Convert the results into a DataFrame\n",
    "df = pd.DataFrame(results)\n",
    "\n",
    "# Save the DataFrame to a CSV file\n",
    "df.to_csv(\"glycosylation_sites.csv\", index=False)\n",
    "\n",
    "print(df)\n"
   ]
  },
  {
   "cell_type": "code",
   "execution_count": null,
   "id": "a7f220f4",
   "metadata": {},
   "outputs": [],
   "source": []
  }
 ],
 "metadata": {
  "kernelspec": {
   "display_name": "Python 3 (ipykernel)",
   "language": "python",
   "name": "python3"
  },
  "language_info": {
   "codemirror_mode": {
    "name": "ipython",
    "version": 3
   },
   "file_extension": ".py",
   "mimetype": "text/x-python",
   "name": "python",
   "nbconvert_exporter": "python",
   "pygments_lexer": "ipython3",
   "version": "3.10.9"
  }
 },
 "nbformat": 4,
 "nbformat_minor": 5
}
